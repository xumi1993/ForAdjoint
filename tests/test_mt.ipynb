{
 "cells": [
  {
   "cell_type": "code",
   "execution_count": 20,
   "metadata": {},
   "outputs": [],
   "source": [
    "from pyadjoint.utils.cctm import *\n",
    "import pyadjoint\n",
    "import obspy\n",
    "import matplotlib.pyplot as plt\n",
    "import numpy as np"
   ]
  },
  {
   "cell_type": "code",
   "execution_count": 21,
   "metadata": {},
   "outputs": [],
   "source": [
    "# read the waveform data\n",
    "dat = obspy.read('example_data/TA.A38.BXZ.sac.obs')[0]\n",
    "syn = obspy.read('example_data/TA.A38.BXZ.sac.syn')[0]\n",
    "\n",
    "# filter\n",
    "band = [5, 50]\n",
    "dat.filter('bandpass', freqmin=1/band[1], freqmax=1/band[0], corners=2, zerophase=True)\n",
    "syn.filter('bandpass', freqmin=1/band[1], freqmax=1/band[0], corners=2, zerophase=True)\n",
    "\n",
    "time_win = np.array([42.844449, 91.120007]) - syn.stats.sac.b"
   ]
  },
  {
   "cell_type": "code",
   "execution_count": 22,
   "metadata": {},
   "outputs": [
    {
     "data": {
      "text/plain": [
       "[<matplotlib.lines.Line2D at 0x13bc2f5c0>]"
      ]
     },
     "execution_count": 22,
     "metadata": {},
     "output_type": "execute_result"
    },
    {
     "data": {
      "image/png": "[encoded data removed]",
      "text/plain": [
       "<Figure size 1000x200 with 1 Axes>"
      ]
     },
     "metadata": {},
     "output_type": "display_data"
    }
   ],
   "source": [
    "plt.figure(figsize=(10, 2))\n",
    "plt.plot(dat.times(), dat.data, label='Observed', color='black')\n",
    "plt.plot(syn.times(), syn.data, label='Synthetic', color='red')"
   ]
  },
  {
   "cell_type": "code",
   "execution_count": 23,
   "metadata": {},
   "outputs": [
    {
     "name": "stdout",
     "output_type": "stream",
     "text": [
      "max s_t, s_tv: 0.036010244632538616 0.036569577957168156\n",
      "max s_t, s_tv: 0.019910934521465085 0.0211291280138075\n",
      "max s_t, s_tv: 0.022366977623559627 0.022712752419464747\n",
      "max s_t, s_tv: 0.01728844546764941 0.02110085343515767\n",
      "max s_t, s_tv: 0.016997962492879767 0.018433606199725217\n",
      "max s_t, s_tv: 0.036010244632538616 0.036569577957168156\n",
      "max s_t, s_tv: 0.019910934521465085 0.0211291280138075\n",
      "max s_t, s_tv: 0.022366977623559627 0.022712752419464747\n",
      "max s_t, s_tv: 0.01728844546764941 0.02110085343515767\n",
      "max s_t, s_tv: 0.016997962492879767 0.018433606199725217\n",
      "15\n"
     ]
    }
   ],
   "source": [
    "\n",
    "# tshift, dlna, sigma_dt, sigma_dlna = calculate_cc_shift(dat_cp.data, syn_cp.data, dat_cp.stats.delta, dt_sigma_min=1.0, dlna_sigma_min=0.5)\n",
    "config = pyadjoint.get_config(adjsrc_type=\"multitaper\",\n",
    "                              min_period=5., max_period=50.,\n",
    "                              taper_percentage=0.3, taper_type=\"hann\", measure_type=\"dt\")\n",
    "adj_tt = pyadjoint.calculate_adjoint_source(config=config,\n",
    "                                             observed=dat, synthetic=syn,\n",
    "                                             windows=[time_win]\n",
    "                                             )\n",
    "config = pyadjoint.get_config(adjsrc_type=\"multitaper\",\n",
    "                              min_period=5., max_period=50.,\n",
    "                              taper_percentage=0.3, taper_type=\"hann\", measure_type=\"am\")\n",
    "adj_am = pyadjoint.calculate_adjoint_source(config=config,\n",
    "                                             observed=dat, synthetic=syn,\n",
    "                                             windows=[time_win]\n",
    "                                             )\n",
    "print(config.lnpt)\n",
    "\n"
   ]
  },
  {
   "cell_type": "code",
   "execution_count": 24,
   "metadata": {},
   "outputs": [
    {
     "name": "stdout",
     "output_type": "stream",
     "text": [
      " Using multitaper cross-correlation measurement\n",
      "Multitaper time shift (s): -0.35000+/- 1.00000\n",
      "Multitaper time shift misfit:  0.02601\n",
      " Using multitaper cross-correlation measurement\n",
      "Multitaper amplitude anomaly (ln):  0.11057+/- 0.50000\n",
      "Multitaper amplitude anomaly misfit:  0.02953\n"
     ]
    }
   ],
   "source": [
    "!bin/xex_cc_misfit ./example_data/TA.A38.BXZ.sac.obs ./example_data/TA.A38.BXZ.sac.syn 5 50 42.844449 91.120007 13 ./\n",
    "!bin/xex_cc_misfit ./example_data/TA.A38.BXZ.sac.obs ./example_data/TA.A38.BXZ.sac.syn 5 50 42.844449 91.120007 14 ./\n",
    "# !bin/xex_cc_misfit ./example_data/TA.A38.BXZ.sac.obs ./example_data/TA.A38.BXZ.sac.syn 5 50 42.844449 91.120007 11 ./"
   ]
  },
  {
   "cell_type": "code",
   "execution_count": null,
   "metadata": {},
   "outputs": [
    {
     "ename": "FileNotFoundError",
     "evalue": "[Errno 2] No such file or directory: './TA.A38BXZ.mtdt.sac'",
     "output_type": "error",
     "traceback": [
      "\u001b[31m---------------------------------------------------------------------------\u001b[39m",
      "\u001b[31mFileNotFoundError\u001b[39m                         Traceback (most recent call last)",
      "\u001b[36mCell\u001b[39m\u001b[36m \u001b[39m\u001b[32mIn[25]\u001b[39m\u001b[32m, line 1\u001b[39m\n\u001b[32m----> \u001b[39m\u001b[32m1\u001b[39m fpf = \u001b[43mobspy\u001b[49m\u001b[43m.\u001b[49m\u001b[43mread\u001b[49m\u001b[43m(\u001b[49m\u001b[33;43m'\u001b[39;49m\u001b[33;43m./TA.A38BXZ.mtdt.sac\u001b[39;49m\u001b[33;43m'\u001b[39;49m\u001b[43m)\u001b[49m[\u001b[32m0\u001b[39m]\n\u001b[32m      2\u001b[39m fqf = obspy.read(\u001b[33m'\u001b[39m\u001b[33m./TA.A38BXZ.mtdlna.sac\u001b[39m\u001b[33m'\u001b[39m)[\u001b[32m0\u001b[39m]\n\u001b[32m      3\u001b[39m fpcc = obspy.read(\u001b[33m'\u001b[39m\u001b[33m./TA.A38BXZ.ccdt.sac\u001b[39m\u001b[33m'\u001b[39m)[\u001b[32m0\u001b[39m]\n",
      "\u001b[36mFile \u001b[39m\u001b[32m~/miniconda3_arm/envs/fwat/lib/python3.12/site-packages/decorator.py:235\u001b[39m, in \u001b[36mdecorate.<locals>.fun\u001b[39m\u001b[34m(*args, **kw)\u001b[39m\n\u001b[32m    233\u001b[39m \u001b[38;5;28;01mif\u001b[39;00m \u001b[38;5;129;01mnot\u001b[39;00m kwsyntax:\n\u001b[32m    234\u001b[39m     args, kw = fix(args, kw, sig)\n\u001b[32m--> \u001b[39m\u001b[32m235\u001b[39m \u001b[38;5;28;01mreturn\u001b[39;00m \u001b[43mcaller\u001b[49m\u001b[43m(\u001b[49m\u001b[43mfunc\u001b[49m\u001b[43m,\u001b[49m\u001b[43m \u001b[49m\u001b[43m*\u001b[49m\u001b[43m(\u001b[49m\u001b[43mextras\u001b[49m\u001b[43m \u001b[49m\u001b[43m+\u001b[49m\u001b[43m \u001b[49m\u001b[43margs\u001b[49m\u001b[43m)\u001b[49m\u001b[43m,\u001b[49m\u001b[43m \u001b[49m\u001b[43m*\u001b[49m\u001b[43m*\u001b[49m\u001b[43mkw\u001b[49m\u001b[43m)\u001b[49m\n",
      "\u001b[36mFile \u001b[39m\u001b[32m~/miniconda3_arm/envs/fwat/lib/python3.12/site-packages/obspy/core/util/decorator.py:297\u001b[39m, in \u001b[36mmap_example_filename.<locals>._map_example_filename\u001b[39m\u001b[34m(func, *args, **kwargs)\u001b[39m\n\u001b[32m    295\u001b[39m                 \u001b[38;5;28;01mexcept\u001b[39;00m \u001b[38;5;167;01mIOError\u001b[39;00m:\n\u001b[32m    296\u001b[39m                     \u001b[38;5;28;01mpass\u001b[39;00m\n\u001b[32m--> \u001b[39m\u001b[32m297\u001b[39m \u001b[38;5;28;01mreturn\u001b[39;00m \u001b[43mfunc\u001b[49m\u001b[43m(\u001b[49m\u001b[43m*\u001b[49m\u001b[43margs\u001b[49m\u001b[43m,\u001b[49m\u001b[43m \u001b[49m\u001b[43m*\u001b[49m\u001b[43m*\u001b[49m\u001b[43mkwargs\u001b[49m\u001b[43m)\u001b[49m\n",
      "\u001b[36mFile \u001b[39m\u001b[32m~/miniconda3_arm/envs/fwat/lib/python3.12/site-packages/obspy/core/stream.py:209\u001b[39m, in \u001b[36mread\u001b[39m\u001b[34m(pathname_or_url, format, headonly, starttime, endtime, nearest_sample, dtype, apply_calib, check_compression, **kwargs)\u001b[39m\n\u001b[32m    207\u001b[39m     st = _create_example_stream(headonly=headonly)\n\u001b[32m    208\u001b[39m \u001b[38;5;28;01melse\u001b[39;00m:\n\u001b[32m--> \u001b[39m\u001b[32m209\u001b[39m     st = \u001b[43m_generic_reader\u001b[49m\u001b[43m(\u001b[49m\u001b[43mpathname_or_url\u001b[49m\u001b[43m,\u001b[49m\u001b[43m \u001b[49m\u001b[43m_read\u001b[49m\u001b[43m,\u001b[49m\u001b[43m \u001b[49m\u001b[43m*\u001b[49m\u001b[43m*\u001b[49m\u001b[43mkwargs\u001b[49m\u001b[43m)\u001b[49m\n\u001b[32m    211\u001b[39m \u001b[38;5;28;01mif\u001b[39;00m \u001b[38;5;28mlen\u001b[39m(st) == \u001b[32m0\u001b[39m:\n\u001b[32m    212\u001b[39m     \u001b[38;5;28;01mif\u001b[39;00m \u001b[38;5;28misinstance\u001b[39m(pathname_or_url, Path):\n",
      "\u001b[36mFile \u001b[39m\u001b[32m~/miniconda3_arm/envs/fwat/lib/python3.12/site-packages/obspy/core/util/base.py:656\u001b[39m, in \u001b[36m_generic_reader\u001b[39m\u001b[34m(pathname_or_url, callback_func, **kwargs)\u001b[39m\n\u001b[32m    654\u001b[39m         \u001b[38;5;28;01mraise\u001b[39;00m \u001b[38;5;167;01mException\u001b[39;00m(\u001b[33m\"\u001b[39m\u001b[33mNo file matching file pattern: \u001b[39m\u001b[38;5;132;01m%s\u001b[39;00m\u001b[33m\"\u001b[39m % pathname)\n\u001b[32m    655\u001b[39m     \u001b[38;5;28;01melif\u001b[39;00m \u001b[38;5;129;01mnot\u001b[39;00m glob.has_magic(pathname) \u001b[38;5;129;01mand\u001b[39;00m \u001b[38;5;129;01mnot\u001b[39;00m Path(pathname).is_file():\n\u001b[32m--> \u001b[39m\u001b[32m656\u001b[39m         \u001b[38;5;28;01mraise\u001b[39;00m \u001b[38;5;167;01mIOError\u001b[39;00m(\u001b[32m2\u001b[39m, \u001b[33m\"\u001b[39m\u001b[33mNo such file or directory\u001b[39m\u001b[33m\"\u001b[39m, pathname)\n\u001b[32m    658\u001b[39m generic = callback_func(pathnames[\u001b[32m0\u001b[39m], **kwargs)\n\u001b[32m    659\u001b[39m \u001b[38;5;28;01mif\u001b[39;00m \u001b[38;5;28mlen\u001b[39m(pathnames) > \u001b[32m1\u001b[39m:\n",
      "\u001b[31mFileNotFoundError\u001b[39m: [Errno 2] No such file or directory: './TA.A38BXZ.mtdt.sac'"
     ]
    }
   ],
   "source": [
    "fpf = obspy.read('./TA.A38.BXZ.mtdt.sac')[0]\n",
    "fqf = obspy.read('./TA.A38.BXZ.mtdlna.sac')[0]\n",
    "plt.figure(figsize=(8, 3.5))\n",
    "plt.subplot(211)\n",
    "plt.plot(syn.times(), adj_tt.adjoint_source[::-1], label='dt pyadjoint', color='blue', lw=3)\n",
    "plt.plot(fpf.times(), fpf.data, label='dt ForAdjoint', color='tomato', linestyle='--', lw=1.5)\n",
    "plt.legend(loc='lower left')\n",
    "plt.subplot(212)\n",
    "plt.plot(syn.times(), adj_am.adjoint_source[::-1], label='dlna pyadjoint', color='blue', lw=3)\n",
    "plt.plot(fqf.times(), fqf.data, label='dlna ForAdjoint', color='tomato', linestyle='--', lw=1.5)\n",
    "plt.legend(loc='lower left')\n",
    "plt.xlabel('Time (s)')\n",
    "plt.suptitle('Multitaper misfit adjoint source', fontsize=14)\n",
    "plt.tight_layout()\n"
   ]
  }
 ],
 "metadata": {
  "kernelspec": {
   "display_name": "fwat",
   "language": "python",
   "name": "python3"
  },
  "language_info": {
   "codemirror_mode": {
    "name": "ipython",
    "version": 3
   },
   "file_extension": ".py",
   "mimetype": "text/x-python",
   "name": "python",
   "nbconvert_exporter": "python",
   "pygments_lexer": "ipython3",
   "version": "3.12.10"
  }
 },
 "nbformat": 4,
 "nbformat_minor": 2
}
